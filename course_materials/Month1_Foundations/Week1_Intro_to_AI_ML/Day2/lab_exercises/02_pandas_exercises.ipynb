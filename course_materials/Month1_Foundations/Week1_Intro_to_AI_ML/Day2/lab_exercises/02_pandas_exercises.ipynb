{
 "cells": [
  {
   "cell_type": "markdown",
   "metadata": {},
   "source": [
    "# Data Manipulation with Pandas\n",
    "**Week 1, Day 2**  \n",
    "**Topic:** Python for Data Science\n",
    "\n",
    "## Learning Objectives\n",
    "1. Load and explore datasets with Pandas\n",
    "2. Perform data cleaning and transformation\n",
    "3. Create basic visualizations\n",
    "4. Practice writing efficient data manipulation code"
   ]
  },
  {
   "cell_type": "markdown",
   "metadata": {},
   "source": [
    "## Part 1: Setup and Data Loading"
   ]
  },
  {
   "cell_type": "code",
   "execution_count": null,
   "metadata": {},
   "source": [
    "import numpy as np\n",
    "import pandas as pd\n",
    "import matplotlib.pyplot as plt\n",
    "%matplotlib inline\n",
    "\n",
    "# Load the Titanic dataset\n",
    "url = 'https://raw.githubusercontent.com/datasciencedojo/datasets/master/titanic.csv'\n",
    "df = pd.read_csv(url)\n",
    "\n",
    "# Display basic information about the dataset\n",
    "print(\"Dataset shape:\", df.shape)\n",
    "df.head()"
   ],
   "outputs": []
  },
  {
   "cell_type": "markdown",
   "metadata": {},
   "source": [
    "## Part 2: Data Exploration"
   ]
  },
  {
   "cell_type": "code",
   "execution_count": null,
   "metadata": {},
   "source": [
    "# Exercise 1: Display basic statistics for numerical columns\n",
    "# Your code here\n",
    "\n",
    "# Exercise 2: Count the number of missing values in each column\n",
    "# Your code here\n",
    "\n",
    "# Exercise 3: What is the survival rate by passenger class?\n",
    "# Your code here"
   ],
   "outputs": []
  },
  {
   "cell_type": "markdown",
   "metadata": {},
   "source": [
    "## Part 3: Data Cleaning"
   ]
  },
  {
   "cell_type": "code",
   "execution_count": null,
   "metadata": {},
   "source": [
    "# Exercise 4: Handle missing values in the 'Age' column\n",
    "# Your code here\n",
    "\n",
    "# Exercise 5: Create a new column 'FamilySize' by combining 'SibSp' and 'Parch'\n",
    "# Your code here\n",
    "\n",
    "# Exercise 6: Convert 'Sex' to a categorical variable (0 for male, 1 for female)\n",
    "# Your code here"
   ],
   "outputs": []
  },
  {
   "cell_type": "markdown",
   "metadata": {},
   "source": [
    "## Part 4: Data Visualization"
   ]
  },
  {
   "cell_type": "code",
   "execution_count": null,
   "metadata": {},
   "source": [
    "# Exercise 7: Create a histogram of passenger ages\n",
    "# Your code here\n",
    "\n",
    "# Exercise 8: Create a bar plot of survival rate by passenger class\n",
    "# Your code here\n",
    "\n",
    "# Exercise 9: Create a scatter plot of Age vs. Fare, colored by survival\n",
    "# Your code here"
   ],
   "outputs": []
  },
  {
   "cell_type": "markdown",
   "metadata": {},
   "source": [
    "## Part 5: Advanced Exercises"
   ]
  },
  {
   "cell_type": "code",
   "execution_count": null,
   "metadata": {},
   "source": [
    "# Exercise 10: Create a pivot table showing average fare by class and survival\n",
    "# Your code here\n",
    "\n",
    "# Exercise 11: Find the top 5 most common last names\n",
    "# Your code here\n",
    "\n",
    "# Exercise 12: Create a new column 'Title' by extracting titles from 'Name'\n",
    "# Your code here"
   ],
   "outputs": []
  },
  {
   "cell_type": "markdown",
   "metadata": {},
   "source": [
    "## Part 6: Discussion Questions"
   ]
  },
  {
   "cell_type": "markdown",
   "metadata": {},
   "source": [
    "1. What patterns did you observe in the data?\n",
    "2. How did you handle missing values, and what are the potential implications of your approach?\n",
    "3. What other features could you create from the existing data that might be useful for predicting survival?"
   ]
  },
  {
   "cell_type": "markdown",
   "metadata": {},
   "source": [
    "## Submission Instructions\n",
    "1. Complete all exercises\n",
    "2. Add markdown cells to explain your approach where needed\n",
    "3. Ensure your code is well-commented\n",
    "4. Export as HTML/PDF\n",
    "5. Submit both .ipynb and exported file"
   ]
  }
 ],
 "metadata": {
  "kernelspec": {
   "display_name": "Python 3",
   "language": "python",
   "name": "python3"
  },
  "language_info": {
   "codemirror_mode": {
    "name": "ipython",
    "version": 3
   },
   "file_extension": ".py",
   "mimetype": "text/x-python",
   "name": "python",
   "nbconvert_exporter": "python",
   "pygments_lexer": "ipython3",
   "version": "3.9.0"
  }
 },
 "nbformat": 4,
 "nbformat_minor": 4
}
